{
 "metadata": {
  "language": "Julia",
  "name": "Project_parallalized"
 },
 "nbformat": 3,
 "nbformat_minor": 0,
 "worksheets": [
  {
   "cells": [
    {
     "cell_type": "code",
     "collapsed": false,
     "input": "using PyCall;\n@pyimport kplr\n@pyimport matplotlib.pyplot as pl\n\n#download lightcurves\nclient = kplr.API()\nkoi = client[:koi](97.01)\nlcs = koi[:get_light_curves](short_cadence=false)\nn_lcs = length(lcs)",
     "language": "python",
     "metadata": {},
     "outputs": [
      {
       "metadata": {},
       "output_type": "pyout",
       "prompt_number": 16,
       "text": "18"
      }
     ],
     "prompt_number": 16
    },
    {
     "cell_type": "code",
     "collapsed": false,
     "input": "@everywhere function fetch_lightcurve_data(n_lcs::Int64)\n  tic();\n     for i=1:n_lcs\n        hdu = lcs[i][:open]();\n        hdu_data = hdu[2][:data]; #extract the relevant data from the hdu\n        \n        time_temp = @spawn convert(Array{Float64,1},hdu_data[:field](\"TIME\"));                 #Time\n        sap_flux_temp = @spawn convert(Array{Float64,1},hdu_data[:field](\"SAP_FLUX\"));         #Flux\n        sap_flux_temp_err = @spawn convert(Array{Float64,1},hdu_data[:field](\"SAP_FLUX_ERR\")); #Flux_Error\n        sap_quality = @spawn convert(Array{Float64,1},hdu_data[:field](\"SAP_QUALITY\"));        #Quality\n    end\n  toc();\n\nend\n",
     "language": "python",
     "metadata": {},
     "outputs": [],
     "prompt_number": 34
    },
    {
     "cell_type": "code",
     "collapsed": false,
     "input": "",
     "language": "python",
     "metadata": {},
     "outputs": [],
     "prompt_number": 35
    },
    {
     "cell_type": "code",
     "collapsed": false,
     "input": "",
     "language": "python",
     "metadata": {},
     "outputs": []
    }
   ],
   "metadata": {}
  }
 ]
}